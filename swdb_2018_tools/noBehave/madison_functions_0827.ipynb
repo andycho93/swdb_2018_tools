{
 "cells": [
  {
   "cell_type": "code",
   "execution_count": null,
   "metadata": {},
   "outputs": [],
   "source": [
    "import oBehave as ob\n",
    "# you will need these libraries for computation & data manipulation\n",
    "import os\n",
    "import numpy as np\n",
    "import pandas as pd\n",
    "# matplotlib is a standard python visualization package\n",
    "import matplotlib.pyplot as plt\n",
    "%matplotlib inline\n",
    "# seaborn is another library for statistical data visualization\n",
    "# seaborn style & context settings make plots pretty & legible\n",
    "import seaborn as sns\n",
    "sns.set_context('notebook', font_scale=1.5, rc={'lines.markeredgewidth': 2})\n",
    "sns.set_style('white')\n",
    "sns.set_palette('deep');\n",
    "# this makes print statements complaint with python 3 formatting\n",
    "from __future__ import print_function\n",
    "\n",
    "\n",
    "# AWS\n",
    "drive_path = '/data/dynamic-brain-workshop/visual_behavior'\n",
    "manifest_file = 'visual_behavior_data_manifest.csv' #similar to boc cache file\n",
    "manifest = pd.read_csv(os.path.join(drive_path,manifest_file))\n"
   ]
  },
  {
   "cell_type": "code",
   "execution_count": null,
   "metadata": {},
   "outputs": [],
   "source": [
    "#Manifest data only for V1 and choose mouse\n",
    "VISp_manifest = manifest[(manifest.targeted_structure == \"VISp\")] #limit dataframe to V1\n",
    "VISp_exid= VISp_manifest['experiment_id'] #create dataframe of ids\n",
    "\n",
    "expt=644942849\n",
    "\n",
    "from visual_behavior.ophys.dataset.visual_behavior_ophys_dataset import VisualBehaviorOphysDataset\n",
    "dataset = VisualBehaviorOphysDataset(str(expt), cache_dir=drive_path)\n",
    "\n",
    "trials = dataset.trials"
   ]
  },
  {
   "cell_type": "code",
   "execution_count": null,
   "metadata": {},
   "outputs": [],
   "source": [
    "#From the trial start to the change: How much time passes and how many repeats of the initial image before change?\n",
    "repeats_per_trial = []\n",
    "for i in range(len(trials.trial)):\n",
    "    wait = (trials.change_time[i] - trials.start_time[i])\n",
    "    repeats = (wait/0.75)\n",
    "    repeats_per_trial.append([wait, repeats])\n",
    "    \n",
    "print(repeats_per_trial[:3])"
   ]
  },
  {
   "cell_type": "code",
   "execution_count": null,
   "metadata": {},
   "outputs": [],
   "source": []
  },
  {
   "cell_type": "code",
   "execution_count": null,
   "metadata": {},
   "outputs": [],
   "source": [
    "#assign engagement binaries only to go trials, skipping catch trials\n",
    "eng_binary= []\n",
    "for i in range(len(trials.trial)): #problem if remove ctch trials, differnt length?\n",
    "    if ((trials.trial_type[i] == 'go') and (trials.response_type[i] == 'HIT')):\n",
    "        success = 1\n",
    "    elif((trials.trial_type[i] == 'go') and (trials.response_type[i] == 'MISS')):\n",
    "        success = 0\n",
    "    else:\n",
    "        continue\n",
    "    eng_binary.append(success)\n",
    "\n",
    "print(eng_binary)\n",
    "print(len(eng_binary))\n"
   ]
  },
  {
   "cell_type": "code",
   "execution_count": null,
   "metadata": {},
   "outputs": [],
   "source": [
    "#code for finding a SIMPLE engagement window (currently the last initial image start to start of response window) times\n",
    "#go trials only, skipping catch trials\n",
    "\n",
    "eng_st = []\n",
    "eng_end = []\n",
    "\n",
    "for i in range(len(trials.trial)):\n",
    "    if trials.trial_type[i] == 'go':\n",
    "        last_initial_image =(trials.change_time[i] - 0.75)\n",
    "        eng_st.append(last_initial_image)\n",
    "\n",
    "        resp_window_start = (trials.change_time[i] + 0.15)\n",
    "        eng_end.append(resp_window_start) \n",
    "    else:\n",
    "        continue\n",
    "            \n",
    "print (eng_st[0:4])\n",
    "print(eng_end[0:4])\n"
   ]
  },
  {
   "cell_type": "code",
   "execution_count": null,
   "metadata": {},
   "outputs": [],
   "source": []
  },
  {
   "cell_type": "code",
   "execution_count": null,
   "metadata": {},
   "outputs": [],
   "source": [
    "#code for finding a simple engagement window (currently the last initial image start to start of response window) \n",
    "#BOTH go and catch trials for more wide binary analysis\n",
    "\n",
    "\n",
    "eng_st = []\n",
    "eng_end = []\n",
    "\n",
    "for i in range(len(trials.trial)):\n",
    "    last_initial_image =(trials.change_time[i] - 0.75)\n",
    "    eng_st.append(last_initial_image)\n",
    "\n",
    "    resp_window_start = (trials.change_time[i] + 0.15)\n",
    "    eng_end.append(resp_window_start) \n",
    "   \n",
    "            \n",
    "print (eng_st[0:4])\n",
    "print(eng_end[0:4])\n"
   ]
  },
  {
   "cell_type": "code",
   "execution_count": null,
   "metadata": {},
   "outputs": [],
   "source": []
  },
  {
   "cell_type": "code",
   "execution_count": null,
   "metadata": {},
   "outputs": [],
   "source": [
    "#creates list and df column for \"success\" per trial based on correctly responding to either go or catch\n",
    "#used for wide engagement binary\n",
    "trials['success']= 'x'\n",
    "\n",
    "#create column in dataframe: success\n",
    "for i in range(len(trials.trial)):\n",
    "    if ((trials.trial_type[i] == 'go') and (trials.response_type[i] == 'HIT')):\n",
    "        #create success column\n",
    "        success = True\n",
    "    elif ((trials.trial_type[i] == 'catch') and (trials.response_type[i] == 'CR')):\n",
    "        success= True\n",
    "    else:\n",
    "        success = False\n",
    "        \n",
    "    trials.success[i]= success #should be bool\n",
    " \n",
    "    "
   ]
  },
  {
   "cell_type": "code",
   "execution_count": null,
   "metadata": {},
   "outputs": [],
   "source": [
    "trials[['trial_type','response_type','success']]"
   ]
  },
  {
   "cell_type": "code",
   "execution_count": null,
   "metadata": {},
   "outputs": [],
   "source": [
    "#wide engagement binary for 2 successes in 3 consecutive trials \n",
    "wide_engage_binary = []\n",
    "\n",
    "for i in range(len(trials.trial)):\n",
    "    #want to look at window from one trial before to one trial after. unless first of last trial, then there isnt a before or after trial respectively\n",
    "    if i == 0:\n",
    "        pre = 0\n",
    "        post = (i+1)\n",
    "    elif i== len(trials.trial):\n",
    "        pre= (i-1)\n",
    "        post= len(trials.trial)\n",
    "    else:\n",
    "        pre= (i-1)\n",
    "        post= (i+1)\n",
    "    threetrialwindow = (trials[pre:(post+1)])\n",
    "    threetrial_successonly = threetrialwindow.success[threetrialwindow.success == True]\n",
    "    if len(threetrial_successonly) >= 2:\n",
    "        performing_task = 1\n",
    "    else:\n",
    "        performing_task = 0\n",
    "    wide_engage_binary.append(performing_task)   \n",
    "    \n",
    "#wide_engage_binary\n",
    "\n",
    "#adds wide eng binary as a column in dataset\n",
    "trials[\"wide_engage_binary\"]= wide_engage_binary\n",
    "\n",
    "#prints 4 columns to check your work\n",
    "trials[['trial_type','response_type','success', 'wide_engage_binary']]"
   ]
  },
  {
   "cell_type": "code",
   "execution_count": null,
   "metadata": {},
   "outputs": [],
   "source": [
    "#WideER eng binary for 3 successes out of 5 consecutive trials\n",
    "\n",
    "wide_engage_binary = []\n",
    "\n",
    "for i in range(len(trials.trial)):\n",
    "    #want to look at window from one trial before to one trial after. unless first of last trial, then there isnt a before or after trial respectively\n",
    "    if i == 0:\n",
    "        pre = 0\n",
    "        post = (i+2)\n",
    "    elif i ==1:\n",
    "        pre= (i-1)\n",
    "        post= (i+2)\n",
    "    elif i== (len(trials.trial)-1):\n",
    "        pre= (i+2)\n",
    "        post= (i+1)\n",
    "    elif i== len(trials.trial):\n",
    "        pre= (i-2)\n",
    "        post= len(trials.trial)\n",
    "    else:\n",
    "        pre= (i-2)\n",
    "        post= (i+2)\n",
    "    threetrialwindow = (trials[pre:(post+1)])\n",
    "    threetrial_successonly = threetrialwindow.success[threetrialwindow.success == True]\n",
    "    if len(threetrial_successonly) >= 3:\n",
    "        performing_task = 1\n",
    "    else:\n",
    "        performing_task = 0\n",
    "    wide_engage_binary.append(performing_task)   \n",
    "    \n",
    "#wide_engage_binary\n",
    "\n",
    "#adds wide eng binary as a column in dataset\n",
    "trials[\"wide_engage_binary\"]= wide_engage_binary\n",
    "\n",
    "#prints 4 columns to check your work\n",
    "trials[['trial_type','response_type','success', 'wide_engage_binary']]"
   ]
  },
  {
   "cell_type": "code",
   "execution_count": null,
   "metadata": {},
   "outputs": [],
   "source": [
    "plt.plot(wide_engage_binary)"
   ]
  },
  {
   "cell_type": "code",
   "execution_count": null,
   "metadata": {},
   "outputs": [],
   "source": []
  },
  {
   "cell_type": "code",
   "execution_count": null,
   "metadata": {},
   "outputs": [],
   "source": []
  },
  {
   "cell_type": "code",
   "execution_count": null,
   "metadata": {},
   "outputs": [],
   "source": []
  }
 ],
 "metadata": {
  "kernelspec": {
   "display_name": "conda_python2",
   "language": "python",
   "name": "conda_python2"
  },
  "language_info": {
   "codemirror_mode": {
    "name": "ipython",
    "version": 2
   },
   "file_extension": ".py",
   "mimetype": "text/x-python",
   "name": "python",
   "nbconvert_exporter": "python",
   "pygments_lexer": "ipython2",
   "version": "2.7.14"
  }
 },
 "nbformat": 4,
 "nbformat_minor": 2
}
