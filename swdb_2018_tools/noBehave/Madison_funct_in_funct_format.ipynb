{
 "cells": [
  {
   "cell_type": "code",
   "execution_count": null,
   "metadata": {},
   "outputs": [],
   "source": [
    "#create simple engage binary list\n",
    "#include catch trials if desired with catch=True\n",
    "#go/HIT=successful and engaged. go/MISS=unsuccessful and unengaed, same for catch if catch=True\n",
    "def singletrial_eng_binary (trials, catch=False):\n",
    "    eng_binary= []\n",
    "    for i in range(len(trials.trial)): #problem if remove ctch trials, differnt length?\n",
    "        if ((trials.trial_type[i] == 'go') and (trials.response_type[i] == 'HIT')):\n",
    "            success = 1\n",
    "        elif((trials.trial_type[i] == 'go') and (trials.response_type[i] == 'MISS')):\n",
    "            success = 0\n",
    "        elif catch==False:\n",
    "            continue\n",
    "        elif catch == True:\n",
    "            if ((trials.trial_type[i] == 'catch') and (trials.response_type[i] == 'CR')):\n",
    "                success = 1\n",
    "            elif((trials.trial_type[i] == 'catch') and (trials.response_type[i] == 'FA')):\n",
    "                success = 0\n",
    "            \n",
    "        eng_binary.append(success)\n",
    "        \n",
    "    return print(\"preview: \", eng_binary[:20], \"length is: \", len(eng_binary))\n"
   ]
  },
  {
   "cell_type": "code",
   "execution_count": null,
   "metadata": {},
   "outputs": [],
   "source": []
  },
  {
   "cell_type": "code",
   "execution_count": null,
   "metadata": {},
   "outputs": [],
   "source": [
    "#code for making a list of engagement start times and a ist of engagement stop times\n",
    "#currently the last initial image start to start of response window\n",
    "#select whether to include times of catch trials with catch = True or False\n",
    "\n",
    "def eng_window(trials, catch=False):\n",
    "    eng_st = []\n",
    "    eng_end = []\n",
    "\n",
    "    for i in range(len(trials.trial)):\n",
    "        if catch == False:\n",
    "            if trials.trial_type[i] == 'go':\n",
    "                last_initial_image =(trials.change_time[i] - 0.75)\n",
    "                eng_st.append(last_initial_image)\n",
    "                resp_window_start = (trials.change_time[i] + 0.15)\n",
    "                eng_end.append(resp_window_start) \n",
    "            else:\n",
    "                continue\n",
    "        if catch== True:\n",
    "            last_initial_image =(trials.change_time[i] - 0.75)\n",
    "            eng_st.append(last_initial_image)\n",
    "            resp_window_start = (trials.change_time[i] + 0.15)\n",
    "            eng_end.append(resp_window_start) \n",
    "            \n",
    "    return print(\"preview: \", eng_st[:3], eng_end[:3], \"length is: \", len(eng_st))\n"
   ]
  },
  {
   "cell_type": "code",
   "execution_count": null,
   "metadata": {},
   "outputs": [],
   "source": []
  },
  {
   "cell_type": "code",
   "execution_count": null,
   "metadata": {},
   "outputs": [],
   "source": [
    "#wide engagement binary for 2 successes in 3 consecutive trials \n",
    "#1 out in each direction\n",
    "#includes success rate df function\n",
    "\n",
    "def wide_engage_binary(trials, trials_before_and_after=1, num_successes=2):\n",
    "    \n",
    "    trials['success']= 'x'\n",
    "\n",
    "    #create column in dataframe: success\n",
    "    for i in range(len(trials.trial)):\n",
    "        if ((trials.trial_type[i] == 'go') and (trials.response_type[i] == 'HIT')):\n",
    "            #create success column\n",
    "            success = True\n",
    "        elif ((trials.trial_type[i] == 'catch') and (trials.response_type[i] == 'CR')):\n",
    "            success= True\n",
    "        else:\n",
    "            success = False\n",
    "\n",
    "        trials.success[i]= success #should be bool\n",
    "    \n",
    "    width= trials_before_and_after\n",
    "    wide_engage_binary = []\n",
    "\n",
    "    for i in range(len(trials.trial)):\n",
    "        #want to look at window from one trial before to one trial after. unless first of last trial, then there isnt a before or after trial respectively\n",
    "        if i <= width:\n",
    "            pre = 0\n",
    "            post = (i+width)\n",
    "        elif i + width >= len(trials.trial):\n",
    "            pre= (i-width)\n",
    "            post= len(trials.trial)\n",
    "        else:\n",
    "            pre= (i-width)\n",
    "            post= (i+width)\n",
    "        trialwindow = (trials[pre:(post+1)])#-1 because non-inclusive\n",
    "        successonly_list = trialwindow.success[trialwindow.success == True]\n",
    "        if len(successonly_list) >= num_successes:\n",
    "            performing_task = 1\n",
    "        else:\n",
    "            performing_task = 0\n",
    "        wide_engage_binary.append(performing_task)  \n",
    "    #adds wide eng binary as a column in dataset\n",
    "    trials[\"wide_engage_binary\"]= wide_engage_binary\n",
    "\n",
    "    #prints 4 columns to check your work\n",
    "    return trials[['trial_type','response_type','success', 'wide_engage_binary']]"
   ]
  },
  {
   "cell_type": "code",
   "execution_count": null,
   "metadata": {},
   "outputs": [],
   "source": []
  },
  {
   "cell_type": "code",
   "execution_count": null,
   "metadata": {},
   "outputs": [],
   "source": []
  }
 ],
 "metadata": {
  "kernelspec": {
   "display_name": "conda_python2",
   "language": "python",
   "name": "conda_python2"
  },
  "language_info": {
   "codemirror_mode": {
    "name": "ipython",
    "version": 2
   },
   "file_extension": ".py",
   "mimetype": "text/x-python",
   "name": "python",
   "nbconvert_exporter": "python",
   "pygments_lexer": "ipython2",
   "version": "2.7.14"
  }
 },
 "nbformat": 4,
 "nbformat_minor": 2
}
